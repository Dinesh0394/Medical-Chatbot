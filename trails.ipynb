{
 "cells": [
  {
   "cell_type": "code",
   "execution_count": 4,
   "id": "f02b7423",
   "metadata": {},
   "outputs": [],
   "source": [
    "from langchain import PromptTemplate\n",
    "from langchain.chains import RetrievalQA\n",
    "from langchain.embeddings import HuggingFaceEmbeddings\n",
    "from langchain.vectorstores import Pinecone\n",
    "import pinecone\n",
    "from langchain.document_loaders import PyPDFLoader, DirectoryLoader\n",
    "from langchain.text_splitter import RecursiveCharacterTextSplitter\n",
    "from langchain.prompts import PromptTemplate\n",
    "from langchain.llms import CTransformers"
   ]
  },
  {
   "cell_type": "code",
   "execution_count": 3,
   "id": "a6d22074",
   "metadata": {},
   "outputs": [],
   "source": [
    "PINECONE_API_KEY = \"pcsk_6siPSW_RreuKv4wGDnKDTEe3oV5d6t75EFYm8oJ6W9GM5srVTGeSwHED4k7PBkm2LNzHnE\"\n",
    "PINECONE_INDEX_NAME = \"mcb\"\n",
    "PINECONE_INDEX_HOST = \"https://mcb-fz61xrg.svc.aped-4627-b74a.pinecone.io\""
   ]
  },
  {
   "cell_type": "code",
   "execution_count": null,
   "id": "ff082d17",
   "metadata": {},
   "outputs": [],
   "source": [
    "# Extract the text from the PDF file\n",
    "def load_pdf():\n",
    "    loader = DirectoryLoader(\n",
    "        \"./data\",\n",
    "        glob=\"**/*.pdf\",\n",
    "        loader_cls=PyPDFLoader\n",
    "    )\n",
    "    documents = loader.load()\n",
    "    return documents\n"
   ]
  }
 ],
 "metadata": {
  "kernelspec": {
   "display_name": "mcb",
   "language": "python",
   "name": "python3"
  },
  "language_info": {
   "codemirror_mode": {
    "name": "ipython",
    "version": 3
   },
   "file_extension": ".py",
   "mimetype": "text/x-python",
   "name": "python",
   "nbconvert_exporter": "python",
   "pygments_lexer": "ipython3",
   "version": "3.8.20"
  }
 },
 "nbformat": 4,
 "nbformat_minor": 5
}
